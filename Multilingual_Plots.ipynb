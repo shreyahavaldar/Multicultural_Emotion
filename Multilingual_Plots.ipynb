{
 "cells": [
  {
   "cell_type": "code",
   "execution_count": null,
   "metadata": {},
   "outputs": [],
   "source": [
    "import numpy as np\n",
    "import pandas as pd\n",
    "import data_utils as utils\n",
    "import matplotlib.pyplot as plt\n",
    "import importlib"
   ]
  },
  {
   "cell_type": "code",
   "execution_count": null,
   "metadata": {},
   "outputs": [],
   "source": [
    "def get_averaged_points(emotion_encoding, x, y):\n",
    "    unique_emotions_x = {}\n",
    "    unique_emotions_y = {}\n",
    "    for i in range(len(emotion_encoding.category_list)):\n",
    "        emotion = emotion_encoding.category_list[i]\n",
    "        if emotion not in unique_emotions_x:\n",
    "            unique_emotions_x[emotion] = []\n",
    "            unique_emotions_y[emotion] = []\n",
    "        unique_emotions_x[emotion].append(x[i])\n",
    "        unique_emotions_y[emotion].append(y[i])\n",
    "\n",
    "    emotion_labels = list(unique_emotions_x.keys())\n",
    "    x_avg = []\n",
    "    y_avg = []\n",
    "    for emotion in emotion_labels:\n",
    "        x_avg.append(np.mean(unique_emotions_x[emotion]))\n",
    "        y_avg.append(np.mean(unique_emotions_y[emotion]))\n",
    "    return x_avg, y_avg, emotion_labels\n",
    "\n",
    "def make_plot(axis_files: list, \n",
    "              emotion_files: list, \n",
    "              languages: list,\n",
    "              x_category_high: str, \n",
    "              x_category_low: str, \n",
    "              y_category_high: str, \n",
    "              y_category_low: str, \n",
    "              encoding_mode: str, \n",
    "              plot_labels: list, #[title, x_label, y_label]\n",
    "              roberta_model_name=None,\n",
    "              sent_model_name=None,\n",
    "              emotion_filepath=None):\n",
    "    if(encoding_mode == 'roberta' and roberta_model_name is None):\n",
    "        raise ValueError(\"provide a roberta model name\")\n",
    "    \n",
    "    axis_dimensions = []\n",
    "    for i, axis_file in enumerate(axis_files):\n",
    "        # Define dimensions and get encodings\n",
    "        axis_dimension = utils.Emotion_Category(axis_file, roberta_model_name=roberta_model_name, sent_model_name=sent_model_name)\n",
    "        axis_dimension.contextualization(\"\", official=False)   \n",
    "        axis_dimension.new_encoding(mode=encoding_mode, mean_centered=True, official=False)\n",
    "        axis_dimensions.append(axis_dimension)\n",
    "        \n",
    "    # Define and create axes\n",
    "    X_high = utils.generate_averaged_points(category=x_category_high, mode=encoding_mode, official=False, args=axis_dimensions)\n",
    "    X_low = utils.generate_averaged_points(category=x_category_low, mode=encoding_mode, official=False, args=axis_dimensions)\n",
    "    Y_high = utils.generate_averaged_points(category=y_category_high, mode=encoding_mode, official=False, args=axis_dimensions)\n",
    "    Y_low = utils.generate_averaged_points(category=y_category_low, mode=encoding_mode, official=False, args=axis_dimensions)\n",
    "\n",
    "    plt.figure(figsize=(10, 10))\n",
    "    plt.grid()\n",
    "    plt.title(plot_labels[0])\n",
    "    plt.xlabel(plot_labels[1])\n",
    "    plt.ylabel(plot_labels[2])\n",
    "\n",
    "    x_axis,y_axis,_,_ = utils.project_points_onto_axes([X_low, X_high, Y_low, Y_high], X_low, X_high, Y_low, Y_high)\n",
    "    # origin_x, origin_y = utils.line_intersection(x_axis, y_axis)\n",
    "\n",
    "    x_points = []\n",
    "    y_points = []\n",
    "    for i, emotion_file in enumerate(emotion_files):\n",
    "        # Encode emotions to plot\n",
    "        emotion_encoding = utils.Emotion_Category(emotion_file, roberta_model_name=roberta_model_name, filepath=emotion_filepath, sent_model_name=sent_model_name)\n",
    "        emotion_encoding.contextualization(\"\", official=False)\n",
    "        emotion_encoding.new_encoding(mode=encoding_mode, mean_centered=True, official=False)\n",
    "        if(encoding_mode == \"bert\"):\n",
    "            x,y,_,_ = utils.project_points_onto_axes(emotion_encoding.bert_unofficial_embedding, X_low, X_high, Y_low, Y_high)\n",
    "        elif(encoding_mode == \"fasttext\"):\n",
    "            x,y,_,_ = utils.project_points_onto_axes(emotion_encoding.fasttext_unofficial_embedding, X_low, X_high, Y_low, Y_high)\n",
    "        elif(encoding_mode == \"roberta\"):\n",
    "            x,y,_,_ = utils.project_points_onto_axes(emotion_encoding.roberta_unofficial_embedding, X_low, X_high, Y_low, Y_high)\n",
    "        x_avg, y_avg, emotion_labels = get_averaged_points(emotion_encoding, x, y)\n",
    "        # x_avg -= origin_x\n",
    "        # y_avg -= origin_y\n",
    "        # x_axis -= origin_x\n",
    "        # y_axis -= origin_y\n",
    "        x_points.append(x_avg)\n",
    "        y_points.append(y_avg)\n",
    "        plt.scatter(x_avg, y_avg, label=languages[i])\n",
    "        for j, emotion in enumerate(emotion_labels):\n",
    "            plt.annotate(emotion, (x_avg[j], y_avg[j]))\n",
    "    plt.scatter(0,0)\n",
    "    plt.annotate(\"(0,0)\", (0,0))\n",
    "    plt.legend(loc='upper right')\n",
    "    return x_points, y_points"
   ]
  },
  {
   "attachments": {},
   "cell_type": "markdown",
   "metadata": {},
   "source": [
    "### Projection onto the Valence-Arousal Plane"
   ]
  },
  {
   "cell_type": "code",
   "execution_count": null,
   "metadata": {},
   "outputs": [],
   "source": [
    "make_plot(axis_files=['VA_Russell_English', 'VA_Russell_Japanese'],\n",
    "          emotion_files=['English', 'Japanese'],\n",
    "          languages = ['English', 'Japanese'],\n",
    "          emotion_filepath=\"Ekman_emotions/pride_shame/\",\n",
    "          x_category_high=\"Positive valence\",\n",
    "          x_category_low=\"Negative valence\",\n",
    "          y_category_high=\"High arousal\",\n",
    "          y_category_low=\"Low arousal\",\n",
    "          encoding_mode=\"bert\",\n",
    "          sent_model_name=\"paraphrase-multilingual-mpnet-base-v2\",\n",
    "          plot_labels=[\"Multilingual Paraphrase-RoBERTa-XLM embeddings on the VA Plane[Russell]\", \"Valence Dimension\", \"Arousal Dimension\"]\n",
    "          )\n",
    "\n",
    "make_plot(axis_files=['VA_Russell_English', 'VA_Russell_Japanese'],\n",
    "          emotion_files=['English', 'Japanese'],\n",
    "          languages = ['English', 'Japanese'],\n",
    "          emotion_filepath=\"Ekman_emotions/pride_shame/\",\n",
    "          x_category_high=\"Positive valence\",\n",
    "          x_category_low=\"Negative valence\",\n",
    "          y_category_high=\"High arousal\",\n",
    "          y_category_low=\"Low arousal\",\n",
    "          encoding_mode=\"roberta\",\n",
    "          roberta_model_name=\"cardiffnlp/twitter-xlm-roberta-base-sentiment\",\n",
    "          plot_labels=[\"RoBERTa-XLM embeddings on the VA Plane[Russell]\", \"Valence Dimension\", \"Arousal Dimension\"]\n",
    "          )"
   ]
  },
  {
   "attachments": {},
   "cell_type": "markdown",
   "metadata": {},
   "source": [
    "### Projection onto the Valence-IWE Plane"
   ]
  },
  {
   "cell_type": "code",
   "execution_count": null,
   "metadata": {},
   "outputs": [],
   "source": [
    "make_plot(axis_files=['IWE_valence_English', 'IWE_valence_Chinese', 'IWE_valence_Spanish', 'IWE_valence_Hindi', 'IWE_valence_Japanese'],\n",
    "          emotion_files=['English', 'Chinese', 'Spanish', 'Hindi', 'Japanese'],\n",
    "          languages = ['English', 'Chinese', 'Spanish', 'Hindi', 'Japanese'],\n",
    "          emotion_filepath=\"Ekman_emotions/Ekman/\",\n",
    "          x_category_high=\"Positive valence\",\n",
    "          x_category_low=\"Negative valence\",\n",
    "          y_category_high=\"WE\",\n",
    "          y_category_low=\"I\",\n",
    "          encoding_mode=\"bert\",\n",
    "          plot_labels=[\"Multilingual SBERT embeddings on the Valence/IWE Plane[Russell]\", \"Valence Dimension\", \"I/WE Dimension (Higher value = WE)\"]\n",
    "          )\n"
   ]
  },
  {
   "attachments": {},
   "cell_type": "markdown",
   "metadata": {},
   "source": [
    "### Projection onto the IWE-Arousal Plane"
   ]
  },
  {
   "cell_type": "code",
   "execution_count": null,
   "metadata": {},
   "outputs": [],
   "source": [
    "make_plot(axis_files=['IWE_arousal_English', 'IWE_arousal_Chinese', 'IWE_arousal_Spanish', 'IWE_arousal_Hindi', 'IWE_arousal_Japanese'],\n",
    "          emotion_files=['English', 'Chinese', 'Spanish', 'Hindi', 'Japanese'],\n",
    "          languages = ['English', 'Chinese', 'Spanish', 'Hindi', 'Japanese'],\n",
    "          emotion_filepath=\"Ekman_emotions/Ekman/\",\n",
    "          x_category_high=\"WE\",\n",
    "          x_category_low=\"I\",\n",
    "          y_category_high=\"High arousal\",\n",
    "          y_category_low=\"Low arousal\",\n",
    "          encoding_mode=\"bert\",\n",
    "          plot_labels=[\"Multilingual SBERT embeddings on the IWE/Arousal Plane[Russell]\", \"I/WE Dimension (Higher value = WE)\", \"Arousal Dimension\"]\n",
    "          )"
   ]
  }
 ],
 "metadata": {
  "kernelspec": {
   "display_name": "shreya_env",
   "language": "python",
   "name": "python3"
  },
  "language_info": {
   "codemirror_mode": {
    "name": "ipython",
    "version": 3
   },
   "file_extension": ".py",
   "mimetype": "text/x-python",
   "name": "python",
   "nbconvert_exporter": "python",
   "pygments_lexer": "ipython3",
   "version": "3.6.13"
  },
  "vscode": {
   "interpreter": {
    "hash": "91463280d8781b4327168e6aed37b9922ec5e51ac75b06b77d3a30bc9c56392e"
   }
  }
 },
 "nbformat": 4,
 "nbformat_minor": 2
}
